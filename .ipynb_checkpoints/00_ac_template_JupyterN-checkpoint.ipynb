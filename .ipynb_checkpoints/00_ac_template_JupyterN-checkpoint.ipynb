{
 "cells": [
  {
   "cell_type": "raw",
   "id": "1da5f5ef-350a-472c-a47c-0e2a0ad999aa",
   "metadata": {
    "editable": true,
    "id": "3248ed08-8e73-463f-a189-bcaf57488a26",
    "raw_mimetype": "",
    "slideshow": {
     "slide_type": ""
    },
    "tags": []
   },
   "source": [
    "\\makeatletter\n",
    "\\title{\n",
    "\\textit{\\fontsize{24}{60}\\selectfont Universidad Austral } \\\\\n",
    "\\textit{\\fontsize{24}{60}\\selectfont Facultad de Ingeniería} \\\\\n",
    "\\hspace{1cm}  \\\\\n",
    "\\fontsize{24}{40}\\selectfont Maestría en Ciencia de Datos \\\\\n",
    "\\hspace{1cm}  \\\\\n",
    "\\textbf{Advanced Regression Analysis} \\\\\n",
    "}\n",
    "\\maketitle\n",
    "\\par\n",
    "\\hspace{1cm}  \\\\\n",
    "\\hspace{1cm}  \\\\\n",
    "\\hspace{1cm}  \\\\\n",
    "\\hspace{1cm}  \\\\\n",
    "\\hspace{1cm}  \\\\\n",
    "\\hspace{1cm}  \\\\\n",
    "\\hspace{1cm}  \\\\\n",
    "\\fontsize{18}{30}\\selectfont\n",
    "Autor: Aureliano Chavarría \\\\\n",
    "Asignatura: Regresión Avanzada \\\\\n",
    "Profesores: PhD. Debora Chan - Cecilia Oliva\n",
    "\\newpage"
   ]
  },
  {
   "cell_type": "raw",
   "id": "847b16f4-7bb4-4a5c-a2fb-eee8aad50466",
   "metadata": {
    "id": "a93451db-a8b0-4299-8f9f-5291fcda2d5e"
   },
   "source": [
    "\\fontsize{14}{18}\\selectfont\n",
    "\\tableofcontents\n",
    "\\newpage"
   ]
  },
  {
   "cell_type": "raw",
   "id": "bc10af2e-00df-4ce4-9260-5c570ffcd2a5",
   "metadata": {},
   "source": [
    "\\fontsize{11}{14}\\selectfont"
   ]
  },
  {
   "cell_type": "markdown",
   "id": "a1bf668d-37b3-48d4-bfc0-2e3dc888c313",
   "metadata": {
    "id": "a1bf668d-37b3-48d4-bfc0-2e3dc888c313"
   },
   "source": [
    "**Consideraciones**\n",
    "\n",
    "A continuación se destacan algunas consideraciones durante el desarrollo del presente TP.\n",
    "\n",
    "- El lenguaje de programación utilizado es **python** y se utiliza dentro de la aplicación **Jupyter Notebook** para conjugar la potencia del código de programación y texto con formato. El resultado es un documento o notebook con el desarrollo del TP.\n",
    "- Las **Jupyter Notebooks** se estructuran en celdas que pueden ser del tipo **código** (python) o **texto con formato**.\n",
    "- Markdown, HTML y LaTeX son los lenguajes de marcado utilizados indistintamente dentro del notebook para crear un documento de texto con formato y estilos.\n",
    "- Los valores expresados en la versión PDF de este trabajo pueden variar levemente al ejecutar la jupyter notebook en una instancia posterior. Esto se debe a que funciones como `random.randint()` de la librería random devuelve valores aleatorios diferentes en cada ejecución.\n",
    "- La generación del pdf se hace con la herramienta `nbconvert` de la biblioteca jupyter.\n",
    "  - jupyter nbconvert --to pdf --allow-chromium-download  00-TP-python.ipynb\n",
    "  - conda install -y -c conda-forge nbconvert\n",
    "\n",
    "\n"
   ]
  },
  {
   "cell_type": "raw",
   "id": "3ed120f4-a142-4ee1-b3e2-346253d563d2",
   "metadata": {},
   "source": [
    "\\newpage"
   ]
  },
  {
   "cell_type": "markdown",
   "id": "401affe0-04b8-475a-9dfd-c0e9a432ca31",
   "metadata": {},
   "source": [
    "# Advanced Regression Analysis with Python - Notebook 1\n",
    "Esta notebook contiene herramientas y funciones para realizar un análisis exhaustivo en regresión avanzada. Está organizada en secciones para facilitar su uso y permite ejecutar funciones específicas según los parámetros definidos.\n",
    "\n",
    "## Estructura de la Notebook\n",
    "\n",
    "1. **Importación de Librerías**: Cargamos todas las librerías necesarias para el análisis.\n",
    "2. **Parametrización**: Definimos los parámetros específicos de cada ejercicio o actividad.\n",
    "3. **Definición de Funciones**: Contiene funciones reutilizables para los análisis y visualizaciones.\n",
    "4. **Ejecución de Ejercicios**: Ejecutamos los ejercicios y análisis según los parámetros definidos previamente.\n",
    "\n",
    "Cada sección está diseñada para facilitar la reutilización y el análisis efectivo de los datos."
   ]
  },
  {
   "cell_type": "markdown",
   "id": "5b7cbc2b-2ae7-4173-afea-714be7c56eb2",
   "metadata": {},
   "source": [
    "## Importación de Librerías\n",
    "\n",
    "En esta sección, importamos todas las librerías necesarias para realizar el análisis de regresión, visualización y estadísticas. Esto incluye pandas, numpy, matplotlib, scipy, statsmodels, entre otras."
   ]
  },
  {
   "cell_type": "code",
   "execution_count": 11,
   "id": "62afe967-e846-4ab9-886b-26ce585d1376",
   "metadata": {},
   "outputs": [],
   "source": [
    "# Importación de librerías\n",
    "import pandas as pd\n",
    "import numpy as np\n",
    "import matplotlib.pyplot as plt\n",
    "import seaborn as sns\n",
    "import scipy.stats as stats\n",
    "import statsmodels.api as sm\n",
    "import statsmodels.formula.api as smf\n",
    "\n",
    "# Configuración del estilo en Seaborn\n",
    "sns.set_style(\"darkgrid\")"
   ]
  },
  {
   "cell_type": "markdown",
   "id": "64a54ff2-4835-4782-9126-efd74c9bbce6",
   "metadata": {},
   "source": [
    "## Parametrización\n",
    "\n",
    "Aquí definimos parámetros específicos para cada ejercicio o actividad. Puedes usar esta sección para activar o desactivar funciones y definir configuraciones específicas. Esta sección permite seleccionar los ejercicios que deseas ejecutar en esta sesión."
   ]
  },
  {
   "cell_type": "code",
   "execution_count": 15,
   "id": "dce07179-37c7-405a-a501-2ed7fd0f6ff5",
   "metadata": {},
   "outputs": [],
   "source": [
    "# Parametrización: Diccionarios para controlar qué funciones o ejercicios se ejecutarán\n",
    "parametros = {\n",
    "    \"ejecutar_analisis_correlacion\": True,\n",
    "    \"ejecutar_graficos_dispersión\": True,\n",
    "    \"ejecutar_regresion_lineal\": True,\n",
    "    \"ejecutar_anova\": False,  # Cambia a True si deseas ejecutar el análisis ANOVA\n",
    "    \"nivel_significancia\": 0.05\n",
    "}\n",
    "\n",
    "# Configuración adicional\n",
    "ruta_datos = \"./data/IMCinfantil.xlsx\"  # Ruta al archivo de datos\n",
    "\n",
    "# Configuración de lectura para diferentes formatos y configuraciones\n",
    "config_lectura = {\n",
    "    \"sep\": \",\",          # Separador de columnas (para CSV)\n",
    "    \"decimal\": \".\",      # Separador decimal\n",
    "    \"thousands\": None    # Separador de miles (si es necesario)\n",
    "}\n",
    "\n"
   ]
  },
  {
   "cell_type": "markdown",
   "id": "b30d21df-57aa-4bbd-85c8-fc3d2d2d0044",
   "metadata": {},
   "source": [
    "## Definición de Funciones\n",
    "\n",
    "Esta sección contiene funciones reutilizables para realizar los análisis y visualizaciones de la notebook. Incluye funciones para el análisis de correlación, gráficos de dispersión, regresión, y análisis ANOVA."
   ]
  },
  {
   "cell_type": "code",
   "execution_count": 16,
   "id": "9f924b46-fb2b-46e4-8435-1340de64c9ea",
   "metadata": {},
   "outputs": [],
   "source": [
    "# Función para cargar datos\n",
    "# Función para cargar datos\n",
    "def cargar_datos(ruta, config):\n",
    "    if ruta.endswith('.csv'):\n",
    "        # Leer archivo CSV con configuraciones de separador y decimal\n",
    "        df = pd.read_csv(ruta, sep=config[\"sep\"], decimal=config[\"decimal\"], thousands=config[\"thousands\"])\n",
    "    elif ruta.endswith('.xlsx'):\n",
    "        # Leer archivo Excel (sin necesidad de separadores)\n",
    "        df = pd.read_excel(ruta)\n",
    "    else:\n",
    "        raise ValueError(\"Formato de archivo no soportado. Utiliza archivos .csv o .xlsx.\")\n",
    "    return df\n",
    "\n",
    "# Función para análisis de correlación\n",
    "def analisis_correlacion(df, columnas, alpha=0.05):\n",
    "    correlacion = df[columnas].corr()\n",
    "    print(\"Matriz de correlación:\")\n",
    "    print(correlacion)\n",
    "    for col1 in columnas:\n",
    "        for col2 in columnas:\n",
    "            if col1 != col2:\n",
    "                coef, p_value = stats.pearsonr(df[col1], df[col2])\n",
    "                print(f\"\\nCorrelación entre {col1} y {col2}: r = {coef:.2f}, p-valor = {p_value:.3f}\")\n",
    "                if p_value < alpha:\n",
    "                    print(\" -> La correlación es estadísticamente significativa.\")\n",
    "                else:\n",
    "                    print(\" -> La correlación NO es estadísticamente significativa.\")\n",
    "\n",
    "# Función para crear gráficos de dispersión\n",
    "def graficos_dispersión(df, x_col, y_col):\n",
    "    plt.figure(figsize=(8, 6))\n",
    "    sns.scatterplot(data=df, x=x_col, y=y_col)\n",
    "    plt.xlabel(f\"Peso Vivo ({x_col})\")\n",
    "    plt.ylabel(f\"Espesor Grasa Dorsal ({y_col})\")\n",
    "    plt.title(f\"Relación entre {x_col} y {y_col}\")\n",
    "    plt.show()\n",
    "\n",
    "# Función para realizar regresión lineal\n",
    "def regresion_lineal(df, x_col, y_col):\n",
    "    X = sm.add_constant(df[x_col])  # Agregar constante para el intercepto\n",
    "    model = sm.OLS(df[y_col], X).fit()\n",
    "    print(model.summary())\n",
    "    return model\n",
    "\n",
    "# Función para realizar ANOVA\n",
    "def anova_regresion(df, formula):\n",
    "    modelo = smf.ols(formula=formula, data=df).fit()\n",
    "    anova_table = sm.stats.anova_lm(modelo, typ=2)\n",
    "    print(\"Tabla ANOVA:\")\n",
    "    print(anova_table)\n",
    "    return anova_table"
   ]
  },
  {
   "cell_type": "markdown",
   "id": "83a54e2a-3fcf-46ba-9391-395363dd5320",
   "metadata": {},
   "source": [
    "## Ejecución de Ejercicios\n",
    "\n",
    "En esta sección, ejecutamos los análisis y visualizaciones de acuerdo con los parámetros definidos. Las funciones previamente definidas se ejecutan en función de la parametrización elegida."
   ]
  },
  {
   "cell_type": "code",
   "execution_count": 18,
   "id": "d3f81a5a-1fcf-4095-a04b-8e8805442c27",
   "metadata": {},
   "outputs": [
    {
     "ename": "FileNotFoundError",
     "evalue": "[Errno 2] No such file or directory: './data/IMCinfantil.xlsx'",
     "output_type": "error",
     "traceback": [
      "\u001b[0;31m---------------------------------------------------------------------------\u001b[0m",
      "\u001b[0;31mFileNotFoundError\u001b[0m                         Traceback (most recent call last)",
      "Cell \u001b[0;32mIn[18], line 2\u001b[0m\n\u001b[1;32m      1\u001b[0m \u001b[38;5;66;03m# Cargar los datos\u001b[39;00m\n\u001b[0;32m----> 2\u001b[0m df \u001b[38;5;241m=\u001b[39m \u001b[43mcargar_datos\u001b[49m\u001b[43m(\u001b[49m\u001b[43mruta_datos\u001b[49m\u001b[43m,\u001b[49m\u001b[43m \u001b[49m\u001b[43mconfig_lectura\u001b[49m\u001b[43m)\u001b[49m\n\u001b[1;32m      4\u001b[0m \u001b[38;5;66;03m# Ejecución de análisis de correlación\u001b[39;00m\n\u001b[1;32m      5\u001b[0m \u001b[38;5;28;01mif\u001b[39;00m parametros[\u001b[38;5;124m\"\u001b[39m\u001b[38;5;124mejecutar_analisis_correlacion\u001b[39m\u001b[38;5;124m\"\u001b[39m] \u001b[38;5;129;01mand\u001b[39;00m df \u001b[38;5;129;01mis\u001b[39;00m \u001b[38;5;129;01mnot\u001b[39;00m \u001b[38;5;28;01mNone\u001b[39;00m:\n",
      "Cell \u001b[0;32mIn[16], line 9\u001b[0m, in \u001b[0;36mcargar_datos\u001b[0;34m(ruta, config)\u001b[0m\n\u001b[1;32m      6\u001b[0m     df \u001b[38;5;241m=\u001b[39m pd\u001b[38;5;241m.\u001b[39mread_csv(ruta, sep\u001b[38;5;241m=\u001b[39mconfig[\u001b[38;5;124m\"\u001b[39m\u001b[38;5;124msep\u001b[39m\u001b[38;5;124m\"\u001b[39m], decimal\u001b[38;5;241m=\u001b[39mconfig[\u001b[38;5;124m\"\u001b[39m\u001b[38;5;124mdecimal\u001b[39m\u001b[38;5;124m\"\u001b[39m], thousands\u001b[38;5;241m=\u001b[39mconfig[\u001b[38;5;124m\"\u001b[39m\u001b[38;5;124mthousands\u001b[39m\u001b[38;5;124m\"\u001b[39m])\n\u001b[1;32m      7\u001b[0m \u001b[38;5;28;01melif\u001b[39;00m ruta\u001b[38;5;241m.\u001b[39mendswith(\u001b[38;5;124m'\u001b[39m\u001b[38;5;124m.xlsx\u001b[39m\u001b[38;5;124m'\u001b[39m):\n\u001b[1;32m      8\u001b[0m     \u001b[38;5;66;03m# Leer archivo Excel (sin necesidad de separadores)\u001b[39;00m\n\u001b[0;32m----> 9\u001b[0m     df \u001b[38;5;241m=\u001b[39m \u001b[43mpd\u001b[49m\u001b[38;5;241;43m.\u001b[39;49m\u001b[43mread_excel\u001b[49m\u001b[43m(\u001b[49m\u001b[43mruta\u001b[49m\u001b[43m)\u001b[49m\n\u001b[1;32m     10\u001b[0m \u001b[38;5;28;01melse\u001b[39;00m:\n\u001b[1;32m     11\u001b[0m     \u001b[38;5;28;01mraise\u001b[39;00m \u001b[38;5;167;01mValueError\u001b[39;00m(\u001b[38;5;124m\"\u001b[39m\u001b[38;5;124mFormato de archivo no soportado. Utiliza archivos .csv o .xlsx.\u001b[39m\u001b[38;5;124m\"\u001b[39m)\n",
      "File \u001b[0;32m~/opt/anaconda3/envs/py311/lib/python3.11/site-packages/pandas/util/_decorators.py:211\u001b[0m, in \u001b[0;36mdeprecate_kwarg.<locals>._deprecate_kwarg.<locals>.wrapper\u001b[0;34m(*args, **kwargs)\u001b[0m\n\u001b[1;32m    209\u001b[0m     \u001b[38;5;28;01melse\u001b[39;00m:\n\u001b[1;32m    210\u001b[0m         kwargs[new_arg_name] \u001b[38;5;241m=\u001b[39m new_arg_value\n\u001b[0;32m--> 211\u001b[0m \u001b[38;5;28;01mreturn\u001b[39;00m \u001b[43mfunc\u001b[49m\u001b[43m(\u001b[49m\u001b[38;5;241;43m*\u001b[39;49m\u001b[43margs\u001b[49m\u001b[43m,\u001b[49m\u001b[43m \u001b[49m\u001b[38;5;241;43m*\u001b[39;49m\u001b[38;5;241;43m*\u001b[39;49m\u001b[43mkwargs\u001b[49m\u001b[43m)\u001b[49m\n",
      "File \u001b[0;32m~/opt/anaconda3/envs/py311/lib/python3.11/site-packages/pandas/util/_decorators.py:331\u001b[0m, in \u001b[0;36mdeprecate_nonkeyword_arguments.<locals>.decorate.<locals>.wrapper\u001b[0;34m(*args, **kwargs)\u001b[0m\n\u001b[1;32m    325\u001b[0m \u001b[38;5;28;01mif\u001b[39;00m \u001b[38;5;28mlen\u001b[39m(args) \u001b[38;5;241m>\u001b[39m num_allow_args:\n\u001b[1;32m    326\u001b[0m     warnings\u001b[38;5;241m.\u001b[39mwarn(\n\u001b[1;32m    327\u001b[0m         msg\u001b[38;5;241m.\u001b[39mformat(arguments\u001b[38;5;241m=\u001b[39m_format_argument_list(allow_args)),\n\u001b[1;32m    328\u001b[0m         \u001b[38;5;167;01mFutureWarning\u001b[39;00m,\n\u001b[1;32m    329\u001b[0m         stacklevel\u001b[38;5;241m=\u001b[39mfind_stack_level(),\n\u001b[1;32m    330\u001b[0m     )\n\u001b[0;32m--> 331\u001b[0m \u001b[38;5;28;01mreturn\u001b[39;00m \u001b[43mfunc\u001b[49m\u001b[43m(\u001b[49m\u001b[38;5;241;43m*\u001b[39;49m\u001b[43margs\u001b[49m\u001b[43m,\u001b[49m\u001b[43m \u001b[49m\u001b[38;5;241;43m*\u001b[39;49m\u001b[38;5;241;43m*\u001b[39;49m\u001b[43mkwargs\u001b[49m\u001b[43m)\u001b[49m\n",
      "File \u001b[0;32m~/opt/anaconda3/envs/py311/lib/python3.11/site-packages/pandas/io/excel/_base.py:482\u001b[0m, in \u001b[0;36mread_excel\u001b[0;34m(io, sheet_name, header, names, index_col, usecols, squeeze, dtype, engine, converters, true_values, false_values, skiprows, nrows, na_values, keep_default_na, na_filter, verbose, parse_dates, date_parser, thousands, decimal, comment, skipfooter, convert_float, mangle_dupe_cols, storage_options)\u001b[0m\n\u001b[1;32m    480\u001b[0m \u001b[38;5;28;01mif\u001b[39;00m \u001b[38;5;129;01mnot\u001b[39;00m \u001b[38;5;28misinstance\u001b[39m(io, ExcelFile):\n\u001b[1;32m    481\u001b[0m     should_close \u001b[38;5;241m=\u001b[39m \u001b[38;5;28;01mTrue\u001b[39;00m\n\u001b[0;32m--> 482\u001b[0m     io \u001b[38;5;241m=\u001b[39m \u001b[43mExcelFile\u001b[49m\u001b[43m(\u001b[49m\u001b[43mio\u001b[49m\u001b[43m,\u001b[49m\u001b[43m \u001b[49m\u001b[43mstorage_options\u001b[49m\u001b[38;5;241;43m=\u001b[39;49m\u001b[43mstorage_options\u001b[49m\u001b[43m,\u001b[49m\u001b[43m \u001b[49m\u001b[43mengine\u001b[49m\u001b[38;5;241;43m=\u001b[39;49m\u001b[43mengine\u001b[49m\u001b[43m)\u001b[49m\n\u001b[1;32m    483\u001b[0m \u001b[38;5;28;01melif\u001b[39;00m engine \u001b[38;5;129;01mand\u001b[39;00m engine \u001b[38;5;241m!=\u001b[39m io\u001b[38;5;241m.\u001b[39mengine:\n\u001b[1;32m    484\u001b[0m     \u001b[38;5;28;01mraise\u001b[39;00m \u001b[38;5;167;01mValueError\u001b[39;00m(\n\u001b[1;32m    485\u001b[0m         \u001b[38;5;124m\"\u001b[39m\u001b[38;5;124mEngine should not be specified when passing \u001b[39m\u001b[38;5;124m\"\u001b[39m\n\u001b[1;32m    486\u001b[0m         \u001b[38;5;124m\"\u001b[39m\u001b[38;5;124man ExcelFile - ExcelFile already has the engine set\u001b[39m\u001b[38;5;124m\"\u001b[39m\n\u001b[1;32m    487\u001b[0m     )\n",
      "File \u001b[0;32m~/opt/anaconda3/envs/py311/lib/python3.11/site-packages/pandas/io/excel/_base.py:1652\u001b[0m, in \u001b[0;36mExcelFile.__init__\u001b[0;34m(self, path_or_buffer, engine, storage_options)\u001b[0m\n\u001b[1;32m   1650\u001b[0m     ext \u001b[38;5;241m=\u001b[39m \u001b[38;5;124m\"\u001b[39m\u001b[38;5;124mxls\u001b[39m\u001b[38;5;124m\"\u001b[39m\n\u001b[1;32m   1651\u001b[0m \u001b[38;5;28;01melse\u001b[39;00m:\n\u001b[0;32m-> 1652\u001b[0m     ext \u001b[38;5;241m=\u001b[39m \u001b[43minspect_excel_format\u001b[49m\u001b[43m(\u001b[49m\n\u001b[1;32m   1653\u001b[0m \u001b[43m        \u001b[49m\u001b[43mcontent_or_path\u001b[49m\u001b[38;5;241;43m=\u001b[39;49m\u001b[43mpath_or_buffer\u001b[49m\u001b[43m,\u001b[49m\u001b[43m \u001b[49m\u001b[43mstorage_options\u001b[49m\u001b[38;5;241;43m=\u001b[39;49m\u001b[43mstorage_options\u001b[49m\n\u001b[1;32m   1654\u001b[0m \u001b[43m    \u001b[49m\u001b[43m)\u001b[49m\n\u001b[1;32m   1655\u001b[0m     \u001b[38;5;28;01mif\u001b[39;00m ext \u001b[38;5;129;01mis\u001b[39;00m \u001b[38;5;28;01mNone\u001b[39;00m:\n\u001b[1;32m   1656\u001b[0m         \u001b[38;5;28;01mraise\u001b[39;00m \u001b[38;5;167;01mValueError\u001b[39;00m(\n\u001b[1;32m   1657\u001b[0m             \u001b[38;5;124m\"\u001b[39m\u001b[38;5;124mExcel file format cannot be determined, you must specify \u001b[39m\u001b[38;5;124m\"\u001b[39m\n\u001b[1;32m   1658\u001b[0m             \u001b[38;5;124m\"\u001b[39m\u001b[38;5;124man engine manually.\u001b[39m\u001b[38;5;124m\"\u001b[39m\n\u001b[1;32m   1659\u001b[0m         )\n",
      "File \u001b[0;32m~/opt/anaconda3/envs/py311/lib/python3.11/site-packages/pandas/io/excel/_base.py:1525\u001b[0m, in \u001b[0;36minspect_excel_format\u001b[0;34m(content_or_path, storage_options)\u001b[0m\n\u001b[1;32m   1522\u001b[0m \u001b[38;5;28;01mif\u001b[39;00m \u001b[38;5;28misinstance\u001b[39m(content_or_path, \u001b[38;5;28mbytes\u001b[39m):\n\u001b[1;32m   1523\u001b[0m     content_or_path \u001b[38;5;241m=\u001b[39m BytesIO(content_or_path)\n\u001b[0;32m-> 1525\u001b[0m \u001b[38;5;28;01mwith\u001b[39;00m \u001b[43mget_handle\u001b[49m\u001b[43m(\u001b[49m\n\u001b[1;32m   1526\u001b[0m \u001b[43m    \u001b[49m\u001b[43mcontent_or_path\u001b[49m\u001b[43m,\u001b[49m\u001b[43m \u001b[49m\u001b[38;5;124;43m\"\u001b[39;49m\u001b[38;5;124;43mrb\u001b[39;49m\u001b[38;5;124;43m\"\u001b[39;49m\u001b[43m,\u001b[49m\u001b[43m \u001b[49m\u001b[43mstorage_options\u001b[49m\u001b[38;5;241;43m=\u001b[39;49m\u001b[43mstorage_options\u001b[49m\u001b[43m,\u001b[49m\u001b[43m \u001b[49m\u001b[43mis_text\u001b[49m\u001b[38;5;241;43m=\u001b[39;49m\u001b[38;5;28;43;01mFalse\u001b[39;49;00m\n\u001b[1;32m   1527\u001b[0m \u001b[43m\u001b[49m\u001b[43m)\u001b[49m \u001b[38;5;28;01mas\u001b[39;00m handle:\n\u001b[1;32m   1528\u001b[0m     stream \u001b[38;5;241m=\u001b[39m handle\u001b[38;5;241m.\u001b[39mhandle\n\u001b[1;32m   1529\u001b[0m     stream\u001b[38;5;241m.\u001b[39mseek(\u001b[38;5;241m0\u001b[39m)\n",
      "File \u001b[0;32m~/opt/anaconda3/envs/py311/lib/python3.11/site-packages/pandas/io/common.py:865\u001b[0m, in \u001b[0;36mget_handle\u001b[0;34m(path_or_buf, mode, encoding, compression, memory_map, is_text, errors, storage_options)\u001b[0m\n\u001b[1;32m    856\u001b[0m         handle \u001b[38;5;241m=\u001b[39m \u001b[38;5;28mopen\u001b[39m(\n\u001b[1;32m    857\u001b[0m             handle,\n\u001b[1;32m    858\u001b[0m             ioargs\u001b[38;5;241m.\u001b[39mmode,\n\u001b[0;32m   (...)\u001b[0m\n\u001b[1;32m    861\u001b[0m             newline\u001b[38;5;241m=\u001b[39m\u001b[38;5;124m\"\u001b[39m\u001b[38;5;124m\"\u001b[39m,\n\u001b[1;32m    862\u001b[0m         )\n\u001b[1;32m    863\u001b[0m     \u001b[38;5;28;01melse\u001b[39;00m:\n\u001b[1;32m    864\u001b[0m         \u001b[38;5;66;03m# Binary mode\u001b[39;00m\n\u001b[0;32m--> 865\u001b[0m         handle \u001b[38;5;241m=\u001b[39m \u001b[38;5;28;43mopen\u001b[39;49m\u001b[43m(\u001b[49m\u001b[43mhandle\u001b[49m\u001b[43m,\u001b[49m\u001b[43m \u001b[49m\u001b[43mioargs\u001b[49m\u001b[38;5;241;43m.\u001b[39;49m\u001b[43mmode\u001b[49m\u001b[43m)\u001b[49m\n\u001b[1;32m    866\u001b[0m     handles\u001b[38;5;241m.\u001b[39mappend(handle)\n\u001b[1;32m    868\u001b[0m \u001b[38;5;66;03m# Convert BytesIO or file objects passed with an encoding\u001b[39;00m\n",
      "\u001b[0;31mFileNotFoundError\u001b[0m: [Errno 2] No such file or directory: './data/IMCinfantil.xlsx'"
     ]
    }
   ],
   "source": [
    "# Cargar los datos\n",
    "df = cargar_datos(ruta_datos, config_lectura)\n",
    "\n",
    "# Ejecución de análisis de correlación\n",
    "if parametros[\"ejecutar_analisis_correlacion\"] and df is not None:\n",
    "    analisis_correlacion(df, columnas=[\"PV\", \"EGD\"], alpha=parametros[\"nivel_significancia\"])\n",
    "\n",
    "# Ejecución de gráficos de dispersión\n",
    "if parametros[\"ejecutar_graficos_dispersión\"] and df is not None:\n",
    "    graficos_dispersión(df, x_col=\"PV\", y_col=\"EGD\")\n",
    "\n",
    "# Ejecución de regresión lineal\n",
    "if parametros[\"ejecutar_regresion_lineal\"] and df is not None:\n",
    "    modelo = regresion_lineal(df, x_col=\"PV\", y_col=\"EGD\")\n",
    "\n",
    "# Ejecución de ANOVA\n",
    "if parametros[\"ejecutar_anova\"] and df is not None:\n",
    "    anova_regresion(df, formula=\"EGD ~ PV\")"
   ]
  },
  {
   "cell_type": "code",
   "execution_count": null,
   "id": "9bc97b1a-761b-4f09-a8b4-21ecb157fc25",
   "metadata": {},
   "outputs": [],
   "source": []
  }
 ],
 "metadata": {
  "colab": {
   "provenance": []
  },
  "kernelspec": {
   "display_name": "Python 3 (ipykernel)",
   "language": "python",
   "name": "python3"
  },
  "language_info": {
   "codemirror_mode": {
    "name": "ipython",
    "version": 3
   },
   "file_extension": ".py",
   "mimetype": "text/x-python",
   "name": "python",
   "nbconvert_exporter": "python",
   "pygments_lexer": "ipython3",
   "version": "3.11.9"
  },
  "toc-autonumbering": true,
  "toc-showtags": false
 },
 "nbformat": 4,
 "nbformat_minor": 5
}
